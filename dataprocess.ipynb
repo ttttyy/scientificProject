{
 "cells": [
  {
   "cell_type": "code",
   "execution_count": 1,
   "metadata": {
    "collapsed": true
   },
   "outputs": [
    {
     "ename": "XLRDError",
     "evalue": "Excel xlsx file; not supported",
     "output_type": "error",
     "traceback": [
      "\u001B[1;31m---------------------------------------------------------------------------\u001B[0m",
      "\u001B[1;31mXLRDError\u001B[0m                                 Traceback (most recent call last)",
      "Cell \u001B[1;32mIn [1], line 2\u001B[0m\n\u001B[0;32m      1\u001B[0m \u001B[38;5;28;01mimport\u001B[39;00m \u001B[38;5;21;01mxlrd\u001B[39;00m\n\u001B[1;32m----> 2\u001B[0m data \u001B[38;5;241m=\u001B[39m \u001B[43mxlrd\u001B[49m\u001B[38;5;241;43m.\u001B[39;49m\u001B[43mopen_workbook\u001B[49m\u001B[43m(\u001B[49m\u001B[38;5;124;43m\"\u001B[39;49m\u001B[38;5;124;43m./data/1.xlsx\u001B[39;49m\u001B[38;5;124;43m\"\u001B[39;49m\u001B[43m)\u001B[49m\n\u001B[0;32m      3\u001B[0m data\n",
      "File \u001B[1;32mD:\\miniconda\\envs\\pytorch\\lib\\site-packages\\xlrd\\__init__.py:170\u001B[0m, in \u001B[0;36mopen_workbook\u001B[1;34m(filename, logfile, verbosity, use_mmap, file_contents, encoding_override, formatting_info, on_demand, ragged_rows, ignore_workbook_corruption)\u001B[0m\n\u001B[0;32m    167\u001B[0m \u001B[38;5;66;03m# We have to let unknown file formats pass through here, as some ancient\u001B[39;00m\n\u001B[0;32m    168\u001B[0m \u001B[38;5;66;03m# files that xlrd can parse don't start with the expected signature.\u001B[39;00m\n\u001B[0;32m    169\u001B[0m \u001B[38;5;28;01mif\u001B[39;00m file_format \u001B[38;5;129;01mand\u001B[39;00m file_format \u001B[38;5;241m!=\u001B[39m \u001B[38;5;124m'\u001B[39m\u001B[38;5;124mxls\u001B[39m\u001B[38;5;124m'\u001B[39m:\n\u001B[1;32m--> 170\u001B[0m     \u001B[38;5;28;01mraise\u001B[39;00m XLRDError(FILE_FORMAT_DESCRIPTIONS[file_format]\u001B[38;5;241m+\u001B[39m\u001B[38;5;124m'\u001B[39m\u001B[38;5;124m; not supported\u001B[39m\u001B[38;5;124m'\u001B[39m)\n\u001B[0;32m    172\u001B[0m bk \u001B[38;5;241m=\u001B[39m open_workbook_xls(\n\u001B[0;32m    173\u001B[0m     filename\u001B[38;5;241m=\u001B[39mfilename,\n\u001B[0;32m    174\u001B[0m     logfile\u001B[38;5;241m=\u001B[39mlogfile,\n\u001B[1;32m   (...)\u001B[0m\n\u001B[0;32m    182\u001B[0m     ignore_workbook_corruption\u001B[38;5;241m=\u001B[39mignore_workbook_corruption,\n\u001B[0;32m    183\u001B[0m )\n\u001B[0;32m    185\u001B[0m \u001B[38;5;28;01mreturn\u001B[39;00m bk\n",
      "\u001B[1;31mXLRDError\u001B[0m: Excel xlsx file; not supported"
     ]
    }
   ],
   "source": [
    "import xlrd\n",
    "data = xlrd.open_workbook(\"./data/1.xlsx\")\n",
    "data"
   ]
  }
 ],
 "metadata": {
  "kernelspec": {
   "display_name": "Python 3",
   "language": "python",
   "name": "python3"
  },
  "language_info": {
   "codemirror_mode": {
    "name": "ipython",
    "version": 2
   },
   "file_extension": ".py",
   "mimetype": "text/x-python",
   "name": "python",
   "nbconvert_exporter": "python",
   "pygments_lexer": "ipython2",
   "version": "2.7.6"
  }
 },
 "nbformat": 4,
 "nbformat_minor": 0
}
